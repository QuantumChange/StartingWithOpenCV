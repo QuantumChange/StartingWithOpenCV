{
 "cells": [
  {
   "cell_type": "markdown",
   "metadata": {
    "collapsed": true
   },
   "source": [
    "## Object Mask Using the GrabCut Algorithm"
   ]
  },
  {
   "cell_type": "code",
   "execution_count": 1,
   "metadata": {
    "collapsed": true
   },
   "outputs": [],
   "source": [
    "import cv2\n",
    "import numpy as np"
   ]
  },
  {
   "cell_type": "code",
   "execution_count": 2,
   "metadata": {
    "collapsed": true
   },
   "outputs": [],
   "source": [
    "image=cv2.imread('D:\\pyplib\\imageRecon\\check\\image.jpg')\n",
    "show_img=np.copy(image)\n",
    "\n",
    "mouse_pressed=False\n",
    "x=y=w=h=0\n",
    "\n",
    "def mouse_callback(event,_x,_y,flag,param):\n",
    "    global show_img,x,y,w,h,mouse_pressed\n",
    "    \n",
    "    if event==cv2.EVENT_LBUTTONDOWN:\n",
    "        mouse_pressed=True\n",
    "        x,y=_x,_y\n",
    "        show_img=np.copy(image)\n",
    "    \n",
    "    elif event==cv2.EVENT_MOUSEMOVE:\n",
    "        if mouse_pressed:\n",
    "            show_img=np.copy(image)\n",
    "            cv2.rectangle(show_img,(x,y),(_x,_y),(0,255,0),3)\n",
    "            \n",
    "    elif event==cv2.EVENT_LBUTTONUP:\n",
    "        mouse_pressed=False\n",
    "        w,h=_x-x,_y-y\n",
    "\n",
    "\n",
    "\n",
    "\n",
    "#cv2.imshow('show_img',show_img)\n",
    "#cv2.waitKey()\n",
    "#cv2.destroyAllWindows()"
   ]
  },
  {
   "cell_type": "code",
   "execution_count": null,
   "metadata": {
    "collapsed": true
   },
   "outputs": [],
   "source": [
    "cv2.namedWindow('image')\n",
    "cv2.setMouseCallback('image',mouse_callback)\n",
    "\n",
    "while True:\n",
    "    cv2.imshow('show_img',show_img)\n",
    "    k=cv2.waitKey(1)\n",
    "    \n",
    "    if k==ord('a') and not mouse_pressed:\n",
    "        if w*h > 0:\n",
    "            break\n",
    "\n",
    "cv2.destroyAllWindows()"
   ]
  },
  {
   "cell_type": "code",
   "execution_count": null,
   "metadata": {
    "collapsed": true
   },
   "outputs": [],
   "source": []
  },
  {
   "cell_type": "code",
   "execution_count": null,
   "metadata": {
    "collapsed": true
   },
   "outputs": [],
   "source": []
  }
 ],
 "metadata": {
  "kernelspec": {
   "display_name": "Python 3",
   "language": "python",
   "name": "python3"
  },
  "language_info": {
   "codemirror_mode": {
    "name": "ipython",
    "version": 3
   },
   "file_extension": ".py",
   "mimetype": "text/x-python",
   "name": "python",
   "nbconvert_exporter": "python",
   "pygments_lexer": "ipython3",
   "version": "3.6.3"
  }
 },
 "nbformat": 4,
 "nbformat_minor": 2
}
