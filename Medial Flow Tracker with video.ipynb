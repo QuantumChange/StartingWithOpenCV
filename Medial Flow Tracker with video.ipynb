{
 "cells": [
  {
   "cell_type": "markdown",
   "metadata": {},
   "source": [
    "# Medial Flow Tracker with video"
   ]
  },
  {
   "cell_type": "code",
   "execution_count": 2,
   "metadata": {
    "collapsed": true
   },
   "outputs": [],
   "source": [
    "import cv2\n",
    "import numpy as np"
   ]
  },
  {
   "cell_type": "code",
   "execution_count": 3,
   "metadata": {},
   "outputs": [
    {
     "data": {
      "text/plain": [
       "False"
      ]
     },
     "execution_count": 3,
     "metadata": {},
     "output_type": "execute_result"
    }
   ],
   "source": [
    "cap=cv2.VideoCapture('D:\\pyplib\\imageRecon\\check\\video.jpg')\n",
    "\n",
    "_,frame=cap.read()\n",
    "\n",
    "\n",
    "cap.isOpened()"
   ]
  },
  {
   "cell_type": "code",
   "execution_count": null,
   "metadata": {
    "collapsed": true
   },
   "outputs": [],
   "source": [
    "bbox=cv2.selectROI(frame,False)\n",
    "cv2.destroyAllWindows()\n",
    "import cv2\n",
    "import numpy as np\n",
    "\n",
    " \n",
    "    # Read image\n",
    "im = cv2.imread(\"D:\\pyplib\\imageRecon\\check\\image.jpg\")\n",
    "     \n",
    "    # Select ROI\n",
    "fromCenter = False\n",
    "r = cv2.selectROI(im, fromCenter)\n",
    "     \n",
    "    # Crop image\n",
    "imCrop = im[int(r[1]):int(r[1]+r[3]), int(r[0]):int(r[0]+r[2])]\n",
    " \n",
    "    # Display cropped image\n",
    "cv2.imshow(\"Image\", imCrop)\n",
    "cv2.waitKey(0)\n"
   ]
  },
  {
   "cell_type": "code",
   "execution_count": 3,
   "metadata": {},
   "outputs": [
    {
     "name": "stdout",
     "output_type": "stream",
     "text": [
      "[[[255 222 172]\n",
      "  [255 222 172]\n",
      "  [255 223 173]\n",
      "  ..., \n",
      "  [ 31   9   3]\n",
      "  [ 35  19  13]\n",
      "  [ 30  18  14]]\n",
      "\n",
      " [[255 223 173]\n",
      "  [255 223 173]\n",
      "  [255 224 174]\n",
      "  ..., \n",
      "  [ 30  14   7]\n",
      "  [ 20  10   3]\n",
      "  [ 54  45  41]]\n",
      "\n",
      " [[255 225 174]\n",
      "  [255 225 174]\n",
      "  [255 226 175]\n",
      "  ..., \n",
      "  [ 37  32  23]\n",
      "  [  5   6   0]\n",
      "  [ 34  36  30]]\n",
      "\n",
      " ..., \n",
      " [[133 131 151]\n",
      "  [136 134 154]\n",
      "  [110 108 128]\n",
      "  ..., \n",
      "  [119 121 145]\n",
      "  [115 119 143]\n",
      "  [104 108 132]]\n",
      "\n",
      " [[126 126 150]\n",
      "  [131 131 155]\n",
      "  [112 110 132]\n",
      "  ..., \n",
      "  [120 124 148]\n",
      "  [124 128 152]\n",
      "  [121 125 149]]\n",
      "\n",
      " [[140 141 167]\n",
      "  [144 145 171]\n",
      "  [139 139 163]\n",
      "  ..., \n",
      "  [115 119 143]\n",
      "  [113 117 141]\n",
      "  [114 118 142]]]\n"
     ]
    }
   ],
   "source": [
    "im = cv2.imread(\"D:\\pyplib\\imageRecon\\check\\image.jpg\")\n",
    "print(im)[p[pp[]]]"
   ]
  },
  {
   "cell_type": "code",
   "execution_count": null,
   "metadata": {
    "collapsed": true
   },
   "outputs": [],
   "source": []
  }
 ],
 "metadata": {
  "kernelspec": {
   "display_name": "Python 3",
   "language": "python",
   "name": "python3"
  },
  "language_info": {
   "codemirror_mode": {
    "name": "ipython",
    "version": 3
   },
   "file_extension": ".py",
   "mimetype": "text/x-python",
   "name": "python",
   "nbconvert_exporter": "python",
   "pygments_lexer": "ipython3",
   "version": "3.6.3"
  }
 },
 "nbformat": 4,
 "nbformat_minor": 2
}
